{
 "cells": [
  {
   "cell_type": "markdown",
   "metadata": {
    "id": "7vIEM2YQ5lan"
   },
   "source": [
    "# Algorithme des arbres de décision pour  un problème de classification"
   ]
  },
  {
   "cell_type": "markdown",
   "metadata": {
    "id": "Fh1VU9yo5lan"
   },
   "source": [
    "Nous allons travailler avec le jeu de données breast_cancer,pour plus d'informations cliquer sur ce lien https://goo.gl/U2Uwz2"
   ]
  },
  {
   "cell_type": "markdown",
   "metadata": {
    "id": "k7X3JhkS5lan"
   },
   "source": [
    "## Chargement des bibiliothèque nécessaires"
   ]
  },
  {
   "cell_type": "markdown",
   "metadata": {
    "id": "BonSXXVL5lan"
   },
   "source": [
    "## Vérifier la version de sklearn"
   ]
  },
  {
   "cell_type": "code",
   "execution_count": 1,
   "metadata": {
    "colab": {
     "base_uri": "https://localhost:8080/"
    },
    "id": "Am3SfB5p5lan",
    "outputId": "76a703c7-91bc-43a5-fb86-e9cf216d7ff0"
   },
   "outputs": [
    {
     "name": "stdout",
     "output_type": "stream",
     "text": [
      "La version de sklearn : 0.24.1\n"
     ]
    }
   ],
   "source": [
    "import sklearn\n",
    "print('La version de sklearn :', sklearn.__version__)"
   ]
  },
  {
   "cell_type": "code",
   "execution_count": 2,
   "metadata": {
    "id": "ndqewHP45lao"
   },
   "outputs": [],
   "source": [
    "import numpy as np\n",
    "import matplotlib.pyplot as plt\n"
   ]
  },
  {
   "cell_type": "code",
   "execution_count": 3,
   "metadata": {},
   "outputs": [],
   "source": [
    "# Data Loading Code Hidden Here\n",
    "import pandas as pd"
   ]
  },
  {
   "cell_type": "code",
   "execution_count": 4,
   "metadata": {
    "id": "BYTyvTWh5lao"
   },
   "outputs": [],
   "source": [
    "import pyodbc\n",
    "conn = pyodbc.connect('Driver={SQL Server};'\n",
    "                      'Server=DESKTOP-2RDIL6K;'\n",
    "                      'Database=transport2;'\n",
    "                      'Trusted_Connection=yes;')\n",
    "#df = pd.read_sql_query('SELECT * From Reseau_ferre',conn)\n",
    "\n",
    "df = pd.read_sql_query(\"SELECT * From ferresSA where NB_VALD != 'Moins de 5' \",conn)"
   ]
  },
  {
   "cell_type": "markdown",
   "metadata": {
    "id": "2EcWo9dt5lao"
   },
   "source": [
    "- Créer une variable `df` à qui vous affectez le jeux de données breast_cancer"
   ]
  },
  {
   "cell_type": "code",
   "execution_count": 5,
   "metadata": {
    "colab": {
     "base_uri": "https://localhost:8080/"
    },
    "id": "ey36wCwA5lao",
    "outputId": "aa3e2223-3623-45ad-9ae0-86ae8b4bd7c3"
   },
   "outputs": [
    {
     "data": {
      "text/plain": [
       "Index(['JOUR', 'CODE_STIF_TRNS', 'CODE_STIF_RES', 'CODE_STIF_ARRET',\n",
       "       'LIBELLE_ARRET', 'CATEGORIE_TITRE', 'NB_VALD'],\n",
       "      dtype='object')"
      ]
     },
     "execution_count": 5,
     "metadata": {},
     "output_type": "execute_result"
    }
   ],
   "source": [
    "df.keys()"
   ]
  },
  {
   "cell_type": "markdown",
   "metadata": {
    "id": "NNOgiE6O5lap",
    "tags": []
   },
   "source": [
    "- Afficher df"
   ]
  },
  {
   "cell_type": "code",
   "execution_count": 6,
   "metadata": {
    "id": "mi-Q4kyH5lap"
   },
   "outputs": [
    {
     "data": {
      "text/html": [
       "<div>\n",
       "<style scoped>\n",
       "    .dataframe tbody tr th:only-of-type {\n",
       "        vertical-align: middle;\n",
       "    }\n",
       "\n",
       "    .dataframe tbody tr th {\n",
       "        vertical-align: top;\n",
       "    }\n",
       "\n",
       "    .dataframe thead th {\n",
       "        text-align: right;\n",
       "    }\n",
       "</style>\n",
       "<table border=\"1\" class=\"dataframe\">\n",
       "  <thead>\n",
       "    <tr style=\"text-align: right;\">\n",
       "      <th></th>\n",
       "      <th>JOUR</th>\n",
       "      <th>CODE_STIF_TRNS</th>\n",
       "      <th>CODE_STIF_RES</th>\n",
       "      <th>CODE_STIF_ARRET</th>\n",
       "      <th>LIBELLE_ARRET</th>\n",
       "      <th>CATEGORIE_TITRE</th>\n",
       "      <th>NB_VALD</th>\n",
       "    </tr>\n",
       "  </thead>\n",
       "  <tbody>\n",
       "    <tr>\n",
       "      <th>0</th>\n",
       "      <td>18/01/2016</td>\n",
       "      <td>100</td>\n",
       "      <td>110</td>\n",
       "      <td>763</td>\n",
       "      <td>SAINT-DENIS-UNIVERSITE</td>\n",
       "      <td>4</td>\n",
       "      <td>343</td>\n",
       "    </tr>\n",
       "    <tr>\n",
       "      <th>1</th>\n",
       "      <td>18/03/2016</td>\n",
       "      <td>800</td>\n",
       "      <td>851</td>\n",
       "      <td>158</td>\n",
       "      <td>CHARTRETTES</td>\n",
       "      <td>0</td>\n",
       "      <td>16</td>\n",
       "    </tr>\n",
       "    <tr>\n",
       "      <th>2</th>\n",
       "      <td>14/01/2016</td>\n",
       "      <td>100</td>\n",
       "      <td>110</td>\n",
       "      <td>27</td>\n",
       "      <td>ARTS ET METIERS</td>\n",
       "      <td>3</td>\n",
       "      <td>387</td>\n",
       "    </tr>\n",
       "    <tr>\n",
       "      <th>3</th>\n",
       "      <td>01/01/2016</td>\n",
       "      <td>800</td>\n",
       "      <td>805</td>\n",
       "      <td>298</td>\n",
       "      <td>GAGNY</td>\n",
       "      <td>0</td>\n",
       "      <td>232</td>\n",
       "    </tr>\n",
       "    <tr>\n",
       "      <th>4</th>\n",
       "      <td>18/01/2016</td>\n",
       "      <td>100</td>\n",
       "      <td>110</td>\n",
       "      <td>99</td>\n",
       "      <td>BOULOGNE-JEAN JAURES</td>\n",
       "      <td>1</td>\n",
       "      <td>1789</td>\n",
       "    </tr>\n",
       "    <tr>\n",
       "      <th>...</th>\n",
       "      <td>...</td>\n",
       "      <td>...</td>\n",
       "      <td>...</td>\n",
       "      <td>...</td>\n",
       "      <td>...</td>\n",
       "      <td>...</td>\n",
       "      <td>...</td>\n",
       "    </tr>\n",
       "    <tr>\n",
       "      <th>60855</th>\n",
       "      <td>05/01/2016</td>\n",
       "      <td>100</td>\n",
       "      <td>110</td>\n",
       "      <td>494</td>\n",
       "      <td>MAIRIE DES LILAS</td>\n",
       "      <td>2</td>\n",
       "      <td>1025</td>\n",
       "    </tr>\n",
       "    <tr>\n",
       "      <th>60856</th>\n",
       "      <td>05/01/2016</td>\n",
       "      <td>100</td>\n",
       "      <td>110</td>\n",
       "      <td>495</td>\n",
       "      <td>MAIRIE D'ISSY</td>\n",
       "      <td>3</td>\n",
       "      <td>201</td>\n",
       "    </tr>\n",
       "    <tr>\n",
       "      <th>60857</th>\n",
       "      <td>05/01/2016</td>\n",
       "      <td>100</td>\n",
       "      <td>110</td>\n",
       "      <td>495</td>\n",
       "      <td>MAIRIE D'ISSY</td>\n",
       "      <td>1</td>\n",
       "      <td>1746</td>\n",
       "    </tr>\n",
       "    <tr>\n",
       "      <th>60858</th>\n",
       "      <td>05/01/2016</td>\n",
       "      <td>100</td>\n",
       "      <td>110</td>\n",
       "      <td>496</td>\n",
       "      <td>MAIRIE D'IVRY</td>\n",
       "      <td>3</td>\n",
       "      <td>377</td>\n",
       "    </tr>\n",
       "    <tr>\n",
       "      <th>60859</th>\n",
       "      <td>05/01/2016</td>\n",
       "      <td>100</td>\n",
       "      <td>110</td>\n",
       "      <td>496</td>\n",
       "      <td>MAIRIE D'IVRY</td>\n",
       "      <td>0</td>\n",
       "      <td>5101</td>\n",
       "    </tr>\n",
       "  </tbody>\n",
       "</table>\n",
       "<p>60860 rows × 7 columns</p>\n",
       "</div>"
      ],
      "text/plain": [
       "             JOUR CODE_STIF_TRNS CODE_STIF_RES CODE_STIF_ARRET  \\\n",
       "0      18/01/2016            100           110             763   \n",
       "1      18/03/2016            800           851             158   \n",
       "2      14/01/2016            100           110              27   \n",
       "3      01/01/2016            800           805             298   \n",
       "4      18/01/2016            100           110              99   \n",
       "...           ...            ...           ...             ...   \n",
       "60855  05/01/2016            100           110             494   \n",
       "60856  05/01/2016            100           110             495   \n",
       "60857  05/01/2016            100           110             495   \n",
       "60858  05/01/2016            100           110             496   \n",
       "60859  05/01/2016            100           110             496   \n",
       "\n",
       "                LIBELLE_ARRET CATEGORIE_TITRE NB_VALD  \n",
       "0      SAINT-DENIS-UNIVERSITE               4     343  \n",
       "1                 CHARTRETTES               0      16  \n",
       "2             ARTS ET METIERS               3     387  \n",
       "3                       GAGNY               0     232  \n",
       "4        BOULOGNE-JEAN JAURES               1    1789  \n",
       "...                       ...             ...     ...  \n",
       "60855        MAIRIE DES LILAS               2    1025  \n",
       "60856           MAIRIE D'ISSY               3     201  \n",
       "60857           MAIRIE D'ISSY               1    1746  \n",
       "60858           MAIRIE D'IVRY               3     377  \n",
       "60859           MAIRIE D'IVRY               0    5101  \n",
       "\n",
       "[60860 rows x 7 columns]"
      ]
     },
     "execution_count": 6,
     "metadata": {},
     "output_type": "execute_result"
    }
   ],
   "source": [
    "df"
   ]
  },
  {
   "cell_type": "code",
   "execution_count": 7,
   "metadata": {},
   "outputs": [],
   "source": [
    "#df['NB_VALID'] = df['NB_VALID'].astype(int)\n",
    "df['NB_VALD'] = pd.to_numeric(df['NB_VALD'])"
   ]
  },
  {
   "cell_type": "code",
   "execution_count": 8,
   "metadata": {},
   "outputs": [],
   "source": [
    "df['CODE_STIF_TRNS'] = pd.to_numeric(df['CODE_STIF_TRNS'])"
   ]
  },
  {
   "cell_type": "code",
   "execution_count": 9,
   "metadata": {},
   "outputs": [],
   "source": [
    "df['CODE_STIF_ARRET']= df['CODE_STIF_ARRET'].replace('ND', '0')"
   ]
  },
  {
   "cell_type": "code",
   "execution_count": 10,
   "metadata": {},
   "outputs": [],
   "source": [
    "df['CODE_STIF_ARRET'] = pd.to_numeric(df['CODE_STIF_ARRET'])"
   ]
  },
  {
   "cell_type": "code",
   "execution_count": 11,
   "metadata": {},
   "outputs": [
    {
     "data": {
      "text/plain": [
       "JOUR               object\n",
       "CODE_STIF_TRNS      int64\n",
       "CODE_STIF_RES      object\n",
       "CODE_STIF_ARRET     int64\n",
       "LIBELLE_ARRET      object\n",
       "CATEGORIE_TITRE    object\n",
       "NB_VALD             int64\n",
       "dtype: object"
      ]
     },
     "execution_count": 11,
     "metadata": {},
     "output_type": "execute_result"
    }
   ],
   "source": [
    "df.dtypes"
   ]
  },
  {
   "cell_type": "code",
   "execution_count": 12,
   "metadata": {},
   "outputs": [],
   "source": [
    "df['CODE_STIF_RES']= df['CODE_STIF_RES'].replace('ND', '0')"
   ]
  },
  {
   "cell_type": "code",
   "execution_count": 13,
   "metadata": {},
   "outputs": [],
   "source": [
    "df['CODE_STIF_RES'] = pd.to_numeric(df['CODE_STIF_RES'])"
   ]
  },
  {
   "cell_type": "code",
   "execution_count": 14,
   "metadata": {},
   "outputs": [],
   "source": [
    "df['CATEGORIE_TITRE'] = pd.to_numeric(df['CATEGORIE_TITRE'])"
   ]
  },
  {
   "cell_type": "code",
   "execution_count": 15,
   "metadata": {},
   "outputs": [],
   "source": [
    "#print(df.DESCR)\n",
    "fea=['CODE_STIF_TRNS', 'CODE_STIF_RES', 'CODE_STIF_ARRET','NB_VALD']"
   ]
  },
  {
   "cell_type": "markdown",
   "metadata": {
    "id": "Z7KEGkIb5lap"
   },
   "source": [
    "#### Extraire de `df` : les observations dans un tableau 2D `X` et les classes dans un tableau 1D `y`"
   ]
  },
  {
   "cell_type": "code",
   "execution_count": 16,
   "metadata": {},
   "outputs": [],
   "source": [
    "#df.target_names"
   ]
  },
  {
   "cell_type": "code",
   "execution_count": 16,
   "metadata": {
    "id": "LED7jTii5lap"
   },
   "outputs": [],
   "source": [
    "X = df[['CODE_STIF_TRNS','CODE_STIF_RES', 'CODE_STIF_ARRET','NB_VALD']]\n",
    "y = df['CATEGORIE_TITRE']"
   ]
  },
  {
   "cell_type": "code",
   "execution_count": 17,
   "metadata": {
    "colab": {
     "base_uri": "https://localhost:8080/"
    },
    "id": "J-PMC3-B5lap",
    "outputId": "4cc7f5d0-91d1-4f58-9feb-5fb3c9556ca3"
   },
   "outputs": [
    {
     "data": {
      "text/plain": [
       "(60860, 4)"
      ]
     },
     "execution_count": 17,
     "metadata": {},
     "output_type": "execute_result"
    }
   ],
   "source": [
    "X.shape"
   ]
  },
  {
   "cell_type": "code",
   "execution_count": 18,
   "metadata": {
    "colab": {
     "base_uri": "https://localhost:8080/"
    },
    "id": "VRr5Bu545lap",
    "outputId": "017d68fb-5ee0-4baf-e9b9-25f97e85c211"
   },
   "outputs": [
    {
     "data": {
      "text/plain": [
       "(60860,)"
      ]
     },
     "execution_count": 18,
     "metadata": {},
     "output_type": "execute_result"
    }
   ],
   "source": [
    "y.shape"
   ]
  },
  {
   "cell_type": "markdown",
   "metadata": {
    "id": "Tp2U097f5lap"
   },
   "source": [
    "#### Diviser l'ensemble des observations X et l'ensemble de classes y, chacun en deux sous-ensembles :\n",
    "- un sous-ensemble d'apprentissage : 70% de l'ensemble initial\n",
    "- un sous-ensemble de test : 30% de l'ensemble initial\n"
   ]
  },
  {
   "cell_type": "code",
   "execution_count": 19,
   "metadata": {
    "id": "Pljs3vxH5lap"
   },
   "outputs": [],
   "source": [
    "from sklearn.model_selection import train_test_split\n",
    "\n",
    "X_train, X_test, y_train, y_test = train_test_split(X, y, train_size=0.8, random_state=3)# random_state=some_number pour garantir que votre split sera toujours le même"
   ]
  },
  {
   "cell_type": "markdown",
   "metadata": {
    "id": "wtpXEdGt5lap"
   },
   "source": [
    "#### Importer le modèle __`DecisionTreeClassifier`__ à partir du module __`tree`__ du module __`sklearn`__.\n"
   ]
  },
  {
   "cell_type": "code",
   "execution_count": 20,
   "metadata": {
    "id": "JEKjK5pC5lap"
   },
   "outputs": [],
   "source": [
    "from sklearn.tree import DecisionTreeClassifier"
   ]
  },
  {
   "cell_type": "markdown",
   "metadata": {
    "id": "6v6QN0yZ5lap"
   },
   "source": [
    "#### Afficher la description de la classe __`DecisionTreeClassifier`__"
   ]
  },
  {
   "cell_type": "code",
   "execution_count": 21,
   "metadata": {
    "id": "FTox-ilc5lap"
   },
   "outputs": [],
   "source": [
    "#DecisionTreeClassifier()\n",
    "#DecisionTreeClassifier?"
   ]
  },
  {
   "cell_type": "markdown",
   "metadata": {
    "id": "KFTJE2Jq5lap"
   },
   "source": [
    " \n",
    "#### Créer une instance   __`dt`__  de la classe  __`DecisionTreeClassifier`__ en fixant à __zéro__  __`random_state`__. Garder l'indice de Gini comme __`criterion`__ par defaut. "
   ]
  },
  {
   "cell_type": "code",
   "execution_count": 21,
   "metadata": {
    "id": "9jee3R925lap"
   },
   "outputs": [],
   "source": [
    "dt = DecisionTreeClassifier(criterion='entropy',max_depth=30,random_state=0)"
   ]
  },
  {
   "cell_type": "markdown",
   "metadata": {
    "id": "cn9Wju105lap"
   },
   "source": [
    "#### Entrainer le modèle __`dt`__ sur les sous-ensembles d'apprentissage (observations et classes) "
   ]
  },
  {
   "cell_type": "code",
   "execution_count": 22,
   "metadata": {
    "colab": {
     "base_uri": "https://localhost:8080/"
    },
    "id": "_J0-B6yA5laq",
    "outputId": "9d2eae22-debd-4701-a51d-1a03686a7782"
   },
   "outputs": [
    {
     "data": {
      "text/plain": [
       "DecisionTreeClassifier(criterion='entropy', max_depth=30, random_state=0)"
      ]
     },
     "execution_count": 22,
     "metadata": {},
     "output_type": "execute_result"
    }
   ],
   "source": [
    "dt.fit(X_train,y_train)"
   ]
  },
  {
   "cell_type": "code",
   "execution_count": 23,
   "metadata": {},
   "outputs": [
    {
     "data": {
      "text/plain": [
       "str"
      ]
     },
     "execution_count": 23,
     "metadata": {},
     "output_type": "execute_result"
    }
   ],
   "source": [
    "type('X_train')"
   ]
  },
  {
   "cell_type": "code",
   "execution_count": 40,
   "metadata": {},
   "outputs": [
    {
     "name": "stderr",
     "output_type": "stream",
     "text": [
      "C:\\Users\\DELL\\anaconda3\\lib\\site-packages\\sklearn\\model_selection\\_split.py:666: UserWarning: The least populated class in y has only 1 members, which is less than n_splits=5.\n",
      "  warnings.warn((\"The least populated class in y has only %d\"\n"
     ]
    },
    {
     "name": "stdout",
     "output_type": "stream",
     "text": [
      "Best p: {'ccp_alpha': 0.0, 'class_weight': None, 'criterion': 'gini', 'max_depth': 10, 'max_features': None, 'max_leaf_nodes': None, 'min_impurity_decrease': 0.0, 'min_impurity_split': None, 'min_samples_leaf': 1, 'min_samples_split': 2, 'min_weight_fraction_leaf': 0.0, 'random_state': None, 'splitter': 'best'}\n"
     ]
    }
   ],
   "source": [
    "from sklearn.model_selection import GridSearchCV\n",
    "tree_para = {'criterion':['gini'],'max_depth':[4,5,6,7,8,9,10]}\n",
    "clf = GridSearchCV(DecisionTreeClassifier(), tree_para, cv=5)\n",
    "best_model = clf.fit(X_train, y_train)\n",
    "print('Best p:', best_model.best_estimator_.get_params())"
   ]
  },
  {
   "cell_type": "markdown",
   "metadata": {
    "id": "71Dds9Sr5laq"
   },
   "source": [
    "#### Calculer les scores d'apprentissage et de test relatifs au modèle dt"
   ]
  },
  {
   "cell_type": "code",
   "execution_count": 41,
   "metadata": {
    "colab": {
     "base_uri": "https://localhost:8080/"
    },
    "id": "IGuYD4Ea5laq",
    "outputId": "059337af-362b-47b2-8441-54179728084a"
   },
   "outputs": [
    {
     "name": "stdout",
     "output_type": "stream",
     "text": [
      "Le train score est : 0.9509119290174171\n",
      "Le test score est : 0.609842260926717\n"
     ]
    }
   ],
   "source": [
    "print('Le train score est :', dt.score(X_train, y_train))\n",
    "print('Le test score est :', dt.score(X_test, y_test))"
   ]
  },
  {
   "cell_type": "code",
   "execution_count": 42,
   "metadata": {
    "colab": {
     "base_uri": "https://localhost:8080/"
    },
    "id": "NDeEQie05laq",
    "outputId": "a9a70bc1-8938-4748-86c7-70ab96dc0556"
   },
   "outputs": [
    {
     "data": {
      "text/plain": [
       "(12172,)"
      ]
     },
     "execution_count": 42,
     "metadata": {},
     "output_type": "execute_result"
    }
   ],
   "source": [
    "y_test.shape"
   ]
  },
  {
   "cell_type": "markdown",
   "metadata": {
    "id": "0X_Lq4Bs5laq"
   },
   "source": [
    "Comme on peut le voir sur l'ensemble d'entraînement, le taux de bonne classif est 100% -->  un indicateur de sur-apprentissage."
   ]
  },
  {
   "cell_type": "code",
   "execution_count": 43,
   "metadata": {
    "colab": {
     "base_uri": "https://localhost:8080/"
    },
    "id": "tpycBAFx5laq",
    "outputId": "ef693c83-126d-4444-a199-5c449da29cc8"
   },
   "outputs": [
    {
     "name": "stdout",
     "output_type": "stream",
     "text": [
      "[[1819  330   71   31    9   11    0]\n",
      " [ 322 1349  281  127   54   41    0]\n",
      " [  79  253 1182  245  149   92    0]\n",
      " [  33  156  353  978  356  183    0]\n",
      " [  10   59  196  348 1052  245    0]\n",
      " [   6   40  116  225  328 1042    0]\n",
      " [   0    0    0    0    0    0    1]]\n"
     ]
    }
   ],
   "source": [
    "from sklearn.metrics import confusion_matrix\n",
    "y_pred = dt.predict(X_test)\n",
    "\n",
    "print(confusion_matrix(y_test, y_pred))"
   ]
  },
  {
   "cell_type": "markdown",
   "metadata": {
    "id": "m7RwkW6W5laq"
   },
   "source": [
    "#### Tracer la matrice de confusion de __`dt`__"
   ]
  },
  {
   "cell_type": "code",
   "execution_count": 44,
   "metadata": {
    "colab": {
     "base_uri": "https://localhost:8080/",
     "height": 279
    },
    "id": "FH0a3Kia5laq",
    "outputId": "6d16ef09-dd5c-40e5-f8ff-08546cfaf729"
   },
   "outputs": [
    {
     "data": {
      "image/png": "[encoded data removed]",
      "text/plain": [
       "<Figure size 432x288 with 2 Axes>"
      ]
     },
     "metadata": {
      "needs_background": "light"
     },
     "output_type": "display_data"
    }
   ],
   "source": [
    "from sklearn.metrics import plot_confusion_matrix\n",
    "plot_confusion_matrix(dt, X_test, y_test, cmap=plt.cm.Blues)\n",
    "plt.show()"
   ]
  },
  {
   "cell_type": "markdown",
   "metadata": {
    "id": "tifk-O4q5laq"
   },
   "source": [
    "### Afficher le __`classification_report`__ de __`dt`__"
   ]
  },
  {
   "cell_type": "code",
   "execution_count": 31,
   "metadata": {
    "colab": {
     "base_uri": "https://localhost:8080/"
    },
    "id": "FEWHnTsB5laq",
    "jupyter": {
     "source_hidden": true
    },
    "outputId": "76bc7bd3-772e-4db3-c67e-b83e89c58a16",
    "tags": []
   },
   "outputs": [
    {
     "name": "stdout",
     "output_type": "stream",
     "text": [
      "              precision    recall  f1-score   support\n",
      "\n",
      "           0  0.80167475 0.80096874 0.80132159      2271\n",
      "           1  0.61682670 0.62051518 0.61866544      2174\n",
      "           2  0.53751705 0.59100000 0.56299119      2000\n",
      "           3  0.50051177 0.47498786 0.48741590      2059\n",
      "           4  0.54004107 0.55078534 0.54536029      1910\n",
      "           5  0.64560099 0.59305635 0.61821418      1757\n",
      "           6  1.00000000 1.00000000 1.00000000         1\n",
      "\n",
      "    accuracy                      0.60984226     12172\n",
      "   macro avg  0.66316748 0.66161621 0.66199551     12172\n",
      "weighted avg  0.61074366 0.60984226 0.60985805     12172\n",
      "\n"
     ]
    }
   ],
   "source": [
    "from sklearn.metrics import classification_report\n",
    "y_pred = dt.predict(X_test)\n",
    "\n",
    "print(classification_report(y_test, y_pred, digits=8 ))\n",
    "\n"
   ]
  },
  {
   "cell_type": "markdown",
   "metadata": {
    "id": "t5mUkm5d5laq"
   },
   "source": [
    "### Afficher l'importance de chaque variable"
   ]
  },
  {
   "cell_type": "code",
   "execution_count": 45,
   "metadata": {
    "colab": {
     "base_uri": "https://localhost:8080/"
    },
    "id": "RZusbTiD5laq",
    "outputId": "dceaa283-16c0-4925-cd1b-10c468bf0435"
   },
   "outputs": [
    {
     "data": {
      "text/plain": [
       "(60860, 4)"
      ]
     },
     "execution_count": 45,
     "metadata": {},
     "output_type": "execute_result"
    }
   ],
   "source": [
    "X.shape"
   ]
  },
  {
   "cell_type": "code",
   "execution_count": 47,
   "metadata": {
    "colab": {
     "base_uri": "https://localhost:8080/"
    },
    "id": "O9C4N1BF5laq",
    "outputId": "e0d14e95-d616-472b-d162-a2b06e0f1170"
   },
   "outputs": [
    {
     "ename": "AttributeError",
     "evalue": "'DataFrame' object has no attribute 'CATEGORIE_TITRE'",
     "output_type": "error",
     "traceback": [
      "\u001b[1;31m---------------------------------------------------------------------------\u001b[0m",
      "\u001b[1;31mAttributeError\u001b[0m                            Traceback (most recent call last)",
      "\u001b[1;32m<ipython-input-47-f07b81ee3b47>\u001b[0m in \u001b[0;36m<module>\u001b[1;34m\u001b[0m\n\u001b[1;32m----> 1\u001b[1;33m \u001b[0mdf\u001b[0m\u001b[1;33m.\u001b[0m\u001b[0mCATEGORIE_TITRE\u001b[0m\u001b[1;33m\u001b[0m\u001b[1;33m\u001b[0m\u001b[0m\n\u001b[0m",
      "\u001b[1;32m~\\anaconda3\\lib\\site-packages\\pandas\\core\\generic.py\u001b[0m in \u001b[0;36m__getattr__\u001b[1;34m(self, name)\u001b[0m\n\u001b[0;32m   5463\u001b[0m             \u001b[1;32mif\u001b[0m \u001b[0mself\u001b[0m\u001b[1;33m.\u001b[0m\u001b[0m_info_axis\u001b[0m\u001b[1;33m.\u001b[0m\u001b[0m_can_hold_identifiers_and_holds_name\u001b[0m\u001b[1;33m(\u001b[0m\u001b[0mname\u001b[0m\u001b[1;33m)\u001b[0m\u001b[1;33m:\u001b[0m\u001b[1;33m\u001b[0m\u001b[1;33m\u001b[0m\u001b[0m\n\u001b[0;32m   5464\u001b[0m                 \u001b[1;32mreturn\u001b[0m \u001b[0mself\u001b[0m\u001b[1;33m[\u001b[0m\u001b[0mname\u001b[0m\u001b[1;33m]\u001b[0m\u001b[1;33m\u001b[0m\u001b[1;33m\u001b[0m\u001b[0m\n\u001b[1;32m-> 5465\u001b[1;33m             \u001b[1;32mreturn\u001b[0m \u001b[0mobject\u001b[0m\u001b[1;33m.\u001b[0m\u001b[0m__getattribute__\u001b[0m\u001b[1;33m(\u001b[0m\u001b[0mself\u001b[0m\u001b[1;33m,\u001b[0m \u001b[0mname\u001b[0m\u001b[1;33m)\u001b[0m\u001b[1;33m\u001b[0m\u001b[1;33m\u001b[0m\u001b[0m\n\u001b[0m\u001b[0;32m   5466\u001b[0m \u001b[1;33m\u001b[0m\u001b[0m\n\u001b[0;32m   5467\u001b[0m     \u001b[1;32mdef\u001b[0m \u001b[0m__setattr__\u001b[0m\u001b[1;33m(\u001b[0m\u001b[0mself\u001b[0m\u001b[1;33m,\u001b[0m \u001b[0mname\u001b[0m\u001b[1;33m:\u001b[0m \u001b[0mstr\u001b[0m\u001b[1;33m,\u001b[0m \u001b[0mvalue\u001b[0m\u001b[1;33m)\u001b[0m \u001b[1;33m->\u001b[0m \u001b[1;32mNone\u001b[0m\u001b[1;33m:\u001b[0m\u001b[1;33m\u001b[0m\u001b[1;33m\u001b[0m\u001b[0m\n",
      "\u001b[1;31mAttributeError\u001b[0m: 'DataFrame' object has no attribute 'CATEGORIE_TITRE'"
     ]
    }
   ],
   "source": [
    "df.CATEGORIE_TITRE"
   ]
  },
  {
   "cell_type": "code",
   "execution_count": 48,
   "metadata": {
    "colab": {
     "base_uri": "https://localhost:8080/"
    },
    "id": "et8ToZNv5laq",
    "outputId": "2afb8d81-2156-4f7a-e8dd-d1df59972cbd"
   },
   "outputs": [],
   "source": [
    "fea=['CODE_STIF_TRNS', 'CODE_STIF_RES', 'CODE_STIF_ARRET','NB_VALD']"
   ]
  },
  {
   "cell_type": "code",
   "execution_count": 35,
   "metadata": {
    "id": "Kpw1gpgN5laq"
   },
   "outputs": [],
   "source": [
    "names = ['mean radius', 'mean texture', 'mean perimeter', 'mean area',\n",
    "         'mean smoothness', 'mean compactness', 'mean concavity',\n",
    "         'mean concave points', 'mean symmetry', 'mean fractal dimension',\n",
    "         'radius error', 'texture error', 'perimeter error', 'area error',\n",
    "         'smoothness error', 'compactness error', 'concavity error',\n",
    "         'concave points error', 'symmetry error',\n",
    "         'fractal dimension error', 'worst radius', 'worst texture',\n",
    "         'worst perimeter', 'worst area', 'worst smoothness',\n",
    "         'worst compactness', 'worst concavity', 'worst concave points',\n",
    "         'worst symmetry', 'worst fractal dimension']"
   ]
  },
  {
   "cell_type": "code",
   "execution_count": 32,
   "metadata": {
    "colab": {
     "base_uri": "https://localhost:8080/"
    },
    "id": "qwYqtEtv5laq",
    "outputId": "34fc83ae-a1de-4586-e93f-f70649c03633"
   },
   "outputs": [
    {
     "ename": "NameError",
     "evalue": "name 'names' is not defined",
     "output_type": "error",
     "traceback": [
      "\u001b[1;31m---------------------------------------------------------------------------\u001b[0m",
      "\u001b[1;31mNameError\u001b[0m                                 Traceback (most recent call last)",
      "\u001b[1;32m<ipython-input-32-e20ee93db3af>\u001b[0m in \u001b[0;36m<module>\u001b[1;34m\u001b[0m\n\u001b[1;32m----> 1\u001b[1;33m \u001b[1;32mfor\u001b[0m \u001b[0mvar\u001b[0m\u001b[1;33m,\u001b[0m \u001b[0mimportance\u001b[0m \u001b[1;32min\u001b[0m \u001b[0mzip\u001b[0m\u001b[1;33m(\u001b[0m\u001b[0mnames\u001b[0m\u001b[1;33m,\u001b[0m \u001b[0mdt\u001b[0m\u001b[1;33m.\u001b[0m\u001b[0mfeature_importances_\u001b[0m\u001b[1;33m)\u001b[0m\u001b[1;33m:\u001b[0m\u001b[1;33m\u001b[0m\u001b[1;33m\u001b[0m\u001b[0m\n\u001b[0m\u001b[0;32m      2\u001b[0m     \u001b[1;32mif\u001b[0m \u001b[0mimportance\u001b[0m \u001b[1;33m!=\u001b[0m \u001b[1;36m0\u001b[0m\u001b[1;33m:\u001b[0m\u001b[1;33m\u001b[0m\u001b[1;33m\u001b[0m\u001b[0m\n\u001b[0;32m      3\u001b[0m         \u001b[0mprint\u001b[0m\u001b[1;33m(\u001b[0m\u001b[0mvar\u001b[0m\u001b[1;33m,\u001b[0m \u001b[0mimportance\u001b[0m\u001b[1;33m)\u001b[0m\u001b[1;33m\u001b[0m\u001b[1;33m\u001b[0m\u001b[0m\n",
      "\u001b[1;31mNameError\u001b[0m: name 'names' is not defined"
     ]
    }
   ],
   "source": [
    "for var, importance in zip(names, dt.feature_importances_):\n",
    "    if importance != 0:\n",
    "        print(var, importance)"
   ]
  },
  {
   "cell_type": "code",
   "execution_count": 49,
   "metadata": {},
   "outputs": [
    {
     "ename": "KeyError",
     "evalue": "'CATEGORIE_TITRE'",
     "output_type": "error",
     "traceback": [
      "\u001b[1;31m---------------------------------------------------------------------------\u001b[0m",
      "\u001b[1;31mKeyError\u001b[0m                                  Traceback (most recent call last)",
      "\u001b[1;32m~\\anaconda3\\lib\\site-packages\\pandas\\core\\indexes\\base.py\u001b[0m in \u001b[0;36mget_loc\u001b[1;34m(self, key, method, tolerance)\u001b[0m\n\u001b[0;32m   3079\u001b[0m             \u001b[1;32mtry\u001b[0m\u001b[1;33m:\u001b[0m\u001b[1;33m\u001b[0m\u001b[1;33m\u001b[0m\u001b[0m\n\u001b[1;32m-> 3080\u001b[1;33m                 \u001b[1;32mreturn\u001b[0m \u001b[0mself\u001b[0m\u001b[1;33m.\u001b[0m\u001b[0m_engine\u001b[0m\u001b[1;33m.\u001b[0m\u001b[0mget_loc\u001b[0m\u001b[1;33m(\u001b[0m\u001b[0mcasted_key\u001b[0m\u001b[1;33m)\u001b[0m\u001b[1;33m\u001b[0m\u001b[1;33m\u001b[0m\u001b[0m\n\u001b[0m\u001b[0;32m   3081\u001b[0m             \u001b[1;32mexcept\u001b[0m \u001b[0mKeyError\u001b[0m \u001b[1;32mas\u001b[0m \u001b[0merr\u001b[0m\u001b[1;33m:\u001b[0m\u001b[1;33m\u001b[0m\u001b[1;33m\u001b[0m\u001b[0m\n",
      "\u001b[1;32mpandas\\_libs\\index.pyx\u001b[0m in \u001b[0;36mpandas._libs.index.IndexEngine.get_loc\u001b[1;34m()\u001b[0m\n",
      "\u001b[1;32mpandas\\_libs\\index.pyx\u001b[0m in \u001b[0;36mpandas._libs.index.IndexEngine.get_loc\u001b[1;34m()\u001b[0m\n",
      "\u001b[1;32mpandas\\_libs\\hashtable_class_helper.pxi\u001b[0m in \u001b[0;36mpandas._libs.hashtable.PyObjectHashTable.get_item\u001b[1;34m()\u001b[0m\n",
      "\u001b[1;32mpandas\\_libs\\hashtable_class_helper.pxi\u001b[0m in \u001b[0;36mpandas._libs.hashtable.PyObjectHashTable.get_item\u001b[1;34m()\u001b[0m\n",
      "\u001b[1;31mKeyError\u001b[0m: 'CATEGORIE_TITRE'",
      "\nThe above exception was the direct cause of the following exception:\n",
      "\u001b[1;31mKeyError\u001b[0m                                  Traceback (most recent call last)",
      "\u001b[1;32m<ipython-input-49-b04b5304435c>\u001b[0m in \u001b[0;36m<module>\u001b[1;34m\u001b[0m\n\u001b[1;32m----> 1\u001b[1;33m \u001b[0mdf\u001b[0m\u001b[1;33m[\u001b[0m\u001b[1;34m\"CATEGORIE_TITRE\"\u001b[0m\u001b[1;33m]\u001b[0m\u001b[1;33m=\u001b[0m\u001b[0mdf\u001b[0m\u001b[1;33m[\u001b[0m\u001b[1;34m\"CATEGORIE_TITRE\"\u001b[0m\u001b[1;33m]\u001b[0m\u001b[1;33m.\u001b[0m\u001b[0mapply\u001b[0m\u001b[1;33m(\u001b[0m\u001b[0mstr\u001b[0m\u001b[1;33m)\u001b[0m\u001b[1;33m\u001b[0m\u001b[1;33m\u001b[0m\u001b[0m\n\u001b[0m",
      "\u001b[1;32m~\\anaconda3\\lib\\site-packages\\pandas\\core\\frame.py\u001b[0m in \u001b[0;36m__getitem__\u001b[1;34m(self, key)\u001b[0m\n\u001b[0;32m   3022\u001b[0m             \u001b[1;32mif\u001b[0m \u001b[0mself\u001b[0m\u001b[1;33m.\u001b[0m\u001b[0mcolumns\u001b[0m\u001b[1;33m.\u001b[0m\u001b[0mnlevels\u001b[0m \u001b[1;33m>\u001b[0m \u001b[1;36m1\u001b[0m\u001b[1;33m:\u001b[0m\u001b[1;33m\u001b[0m\u001b[1;33m\u001b[0m\u001b[0m\n\u001b[0;32m   3023\u001b[0m                 \u001b[1;32mreturn\u001b[0m \u001b[0mself\u001b[0m\u001b[1;33m.\u001b[0m\u001b[0m_getitem_multilevel\u001b[0m\u001b[1;33m(\u001b[0m\u001b[0mkey\u001b[0m\u001b[1;33m)\u001b[0m\u001b[1;33m\u001b[0m\u001b[1;33m\u001b[0m\u001b[0m\n\u001b[1;32m-> 3024\u001b[1;33m             \u001b[0mindexer\u001b[0m \u001b[1;33m=\u001b[0m \u001b[0mself\u001b[0m\u001b[1;33m.\u001b[0m\u001b[0mcolumns\u001b[0m\u001b[1;33m.\u001b[0m\u001b[0mget_loc\u001b[0m\u001b[1;33m(\u001b[0m\u001b[0mkey\u001b[0m\u001b[1;33m)\u001b[0m\u001b[1;33m\u001b[0m\u001b[1;33m\u001b[0m\u001b[0m\n\u001b[0m\u001b[0;32m   3025\u001b[0m             \u001b[1;32mif\u001b[0m \u001b[0mis_integer\u001b[0m\u001b[1;33m(\u001b[0m\u001b[0mindexer\u001b[0m\u001b[1;33m)\u001b[0m\u001b[1;33m:\u001b[0m\u001b[1;33m\u001b[0m\u001b[1;33m\u001b[0m\u001b[0m\n\u001b[0;32m   3026\u001b[0m                 \u001b[0mindexer\u001b[0m \u001b[1;33m=\u001b[0m \u001b[1;33m[\u001b[0m\u001b[0mindexer\u001b[0m\u001b[1;33m]\u001b[0m\u001b[1;33m\u001b[0m\u001b[1;33m\u001b[0m\u001b[0m\n",
      "\u001b[1;32m~\\anaconda3\\lib\\site-packages\\pandas\\core\\indexes\\base.py\u001b[0m in \u001b[0;36mget_loc\u001b[1;34m(self, key, method, tolerance)\u001b[0m\n\u001b[0;32m   3080\u001b[0m                 \u001b[1;32mreturn\u001b[0m \u001b[0mself\u001b[0m\u001b[1;33m.\u001b[0m\u001b[0m_engine\u001b[0m\u001b[1;33m.\u001b[0m\u001b[0mget_loc\u001b[0m\u001b[1;33m(\u001b[0m\u001b[0mcasted_key\u001b[0m\u001b[1;33m)\u001b[0m\u001b[1;33m\u001b[0m\u001b[1;33m\u001b[0m\u001b[0m\n\u001b[0;32m   3081\u001b[0m             \u001b[1;32mexcept\u001b[0m \u001b[0mKeyError\u001b[0m \u001b[1;32mas\u001b[0m \u001b[0merr\u001b[0m\u001b[1;33m:\u001b[0m\u001b[1;33m\u001b[0m\u001b[1;33m\u001b[0m\u001b[0m\n\u001b[1;32m-> 3082\u001b[1;33m                 \u001b[1;32mraise\u001b[0m \u001b[0mKeyError\u001b[0m\u001b[1;33m(\u001b[0m\u001b[0mkey\u001b[0m\u001b[1;33m)\u001b[0m \u001b[1;32mfrom\u001b[0m \u001b[0merr\u001b[0m\u001b[1;33m\u001b[0m\u001b[1;33m\u001b[0m\u001b[0m\n\u001b[0m\u001b[0;32m   3083\u001b[0m \u001b[1;33m\u001b[0m\u001b[0m\n\u001b[0;32m   3084\u001b[0m         \u001b[1;32mif\u001b[0m \u001b[0mtolerance\u001b[0m \u001b[1;32mis\u001b[0m \u001b[1;32mnot\u001b[0m \u001b[1;32mNone\u001b[0m\u001b[1;33m:\u001b[0m\u001b[1;33m\u001b[0m\u001b[1;33m\u001b[0m\u001b[0m\n",
      "\u001b[1;31mKeyError\u001b[0m: 'CATEGORIE_TITRE'"
     ]
    }
   ],
   "source": [
    "df[\"CATEGORIE_TITRE\"]=df[\"CATEGORIE_TITRE\"].apply(str)"
   ]
  },
  {
   "cell_type": "code",
   "execution_count": 34,
   "metadata": {},
   "outputs": [
    {
     "data": {
      "text/plain": [
       "JOUR               object\n",
       "CODE_STIF_TRNS      int64\n",
       "CODE_STIF_RES       int64\n",
       "CODE_STIF_ARRET     int64\n",
       "LIBELLE_ARRET      object\n",
       "CATEGORIE_TITRE    object\n",
       "NB_VALD             int64\n",
       "dtype: object"
      ]
     },
     "execution_count": 34,
     "metadata": {},
     "output_type": "execute_result"
    }
   ],
   "source": [
    "df.dtypes"
   ]
  },
  {
   "cell_type": "markdown",
   "metadata": {
    "id": "BDRT4MF_5laq"
   },
   "source": [
    "\n",
    "#### Exécuter le code ci-dessous pour afficher l'arbre de décision"
   ]
  },
  {
   "cell_type": "code",
   "execution_count": 35,
   "metadata": {},
   "outputs": [
    {
     "data": {
      "text/plain": [
       "Index(['JOUR', 'CODE_STIF_TRNS', 'CODE_STIF_RES', 'CODE_STIF_ARRET',\n",
       "       'LIBELLE_ARRET', 'CATEGORIE_TITRE', 'NB_VALD'],\n",
       "      dtype='object')"
      ]
     },
     "execution_count": 35,
     "metadata": {},
     "output_type": "execute_result"
    }
   ],
   "source": [
    "df.columns"
   ]
  },
  {
   "cell_type": "code",
   "execution_count": 36,
   "metadata": {},
   "outputs": [
    {
     "name": "stdout",
     "output_type": "stream",
     "text": [
      "Requirement already satisfied: graphviz in c:\\users\\dell\\anaconda3\\lib\\site-packages (0.19.1)\n"
     ]
    }
   ],
   "source": [
    "!pip install graphviz"
   ]
  },
  {
   "cell_type": "code",
   "execution_count": 37,
   "metadata": {},
   "outputs": [
    {
     "data": {
      "text/plain": [
       "Index(['JOUR', 'CODE_STIF_TRNS', 'CODE_STIF_RES', 'CODE_STIF_ARRET',\n",
       "       'LIBELLE_ARRET', 'NB_VALD'],\n",
       "      dtype='object')"
      ]
     },
     "execution_count": 37,
     "metadata": {},
     "output_type": "execute_result"
    }
   ],
   "source": [
    "df.columns\n",
    "my_cat=df[\"CATEGORIE_TITRE\"].unique()\n",
    "df=df.drop(columns=[\"CATEGORIE_TITRE\"])\n",
    "my_cat\n",
    "df.columns"
   ]
  },
  {
   "cell_type": "code",
   "execution_count": 38,
   "metadata": {
    "colab": {
     "base_uri": "https://localhost:8080/",
     "height": 387
    },
    "id": "_Xkq7GlW5laq",
    "outputId": "a03f32a6-b9bf-4515-d643-871bfce4bdcf"
   },
   "outputs": [],
   "source": [
    "from sklearn.tree import plot_tree\n",
    "from sklearn import tree\n",
    "import graphviz \n",
    "\n",
    "df=df.drop(columns=[\"JOUR\",\"LIBELLE_ARRET\"])\n",
    "dot_data = tree.export_graphviz(dt, out_file=None, \n",
    "                    feature_names=df.columns,  \n",
    "                      class_names=my_cat,  \n",
    "                      filled=True, rounded=True,  \n",
    "                    special_characters=True)  \n",
    "graph = graphviz.Source(dot_data)\n",
    "\n",
    "\n",
    "\"\"\"\n",
    "plt.figure(figsize=(30,10))\n",
    "df= df.drop(columns=['JOUR','LIBELLE_ARRET'])\n",
    "plot_tree(dt, feature_names= list(df.columns), class_names=list(df.CATEGORIE_TITRE.unique()), filled=True)\n",
    "plt.show()\n",
    "\"\"\""
   ]
  },
  {
   "cell_type": "code",
   "execution_count": 39,
   "metadata": {},
   "outputs": [
    {
     "data": {
      "text/plain": [
       "'dtree_render_.pdf'"
      ]
     },
     "execution_count": 39,
     "metadata": {},
     "output_type": "execute_result"
    }
   ],
   "source": [
    "graph.render('dtree_render_',view=True)"
   ]
  },
  {
   "cell_type": "markdown",
   "metadata": {
    "id": "QVqQnuIA5laq"
   },
   "source": [
    "#### Exécuter le code ci-dessous pour afficher l'arbre sous forme de régles de décision"
   ]
  },
  {
   "cell_type": "code",
   "execution_count": null,
   "metadata": {
    "colab": {
     "base_uri": "https://localhost:8080/"
    },
    "id": "NH4tP34m5laq",
    "outputId": "d32ca982-d36b-44a1-ef5f-6a49e2830c57"
   },
   "outputs": [],
   "source": [
    "\n",
    "\n",
    "from sklearn.tree import export_text\n",
    "print(export_text(dt, feature_names=names))\n",
    "|--- worst area <= 874.85\n",
    "|   |--- worst concave points <= 0.16\n",
    "|   |   |--- mean concave points <= 0.05\n",
    "|   |   |   |--- area error <= 48.70\n",
    "|   |   |   |   |--- worst texture <= 33.27\n",
    "|   |   |   |   |   |--- class: 1from sklearn.tree import export_text\n",
    "print(export_text(dt, feature_names=names))"
   ]
  },
  {
   "cell_type": "code",
   "execution_count": null,
   "metadata": {
    "colab": {
     "base_uri": "https://localhost:8080/"
    },
    "id": "XPXJ8Qb65laq",
    "outputId": "7e8f491f-716c-46c5-ba3a-9e6822252b08"
   },
   "outputs": [],
   "source": [
    "X.shape"
   ]
  },
  {
   "cell_type": "code",
   "execution_count": null,
   "metadata": {
    "id": "8tMps14l5lar"
   },
   "outputs": [],
   "source": []
  },
  {
   "cell_type": "markdown",
   "metadata": {
    "id": "J-QI4U3-5lar"
   },
   "source": [
    "#### Que pensez-vous de la complexité de l'arbre ?\n"
   ]
  },
  {
   "cell_type": "markdown",
   "metadata": {
    "id": "pfDRWVEV5lar"
   },
   "source": [
    "#### L'arbre est trop long et difficile à interpreter. Pour faire face à ce problème on va essayer de régler les hyperparamètre de notre modèle."
   ]
  },
  {
   "cell_type": "markdown",
   "metadata": {
    "id": "_ZMHAISb5lar"
   },
   "source": [
    "#### Créer un dictionaire __`param_grid`__, en vue de configurer les deux hyperparamètres suivants :\n",
    "##### - __`criterion`__ : qui peut être soit l'indice de Gini soit l'entropie\n",
    "##### - __`max_depth`__ : qui varie de 1 à 9"
   ]
  },
  {
   "cell_type": "code",
   "execution_count": null,
   "metadata": {
    "id": "UnqNtcVm5lar"
   },
   "outputs": [],
   "source": [
    "param_grid = {'criterion': ['gini', 'entropy'],\n",
    "             'max_depth': np.arange(1,10)}"
   ]
  },
  {
   "cell_type": "markdown",
   "metadata": {
    "id": "jvozbkGf5lar"
   },
   "source": [
    "#### Charger la méthode GridSearchCV"
   ]
  },
  {
   "cell_type": "code",
   "execution_count": null,
   "metadata": {
    "id": "5dgj3QVv5lar"
   },
   "outputs": [],
   "source": [
    "from sklearn.model_selection import GridSearchCV"
   ]
  },
  {
   "cell_type": "markdown",
   "metadata": {
    "id": "TZnak1pb5lar"
   },
   "source": [
    "\n",
    "#### Créer une instance de recherche par grille appliquée sur l'algorithme de classification par arbre de décision. La recherche doit tester toutes les combinaisons des valeurs des hyperparamètres "
   ]
  },
  {
   "cell_type": "code",
   "execution_count": null,
   "metadata": {
    "id": "-dK0A8S35lar"
   },
   "outputs": [],
   "source": [
    "grid = GridSearchCV(DecisionTreeClassifier(random_state=1), param_grid=param_grid, cv=5)"
   ]
  },
  {
   "cell_type": "markdown",
   "metadata": {
    "id": "SHVg4J_w5lar"
   },
   "source": [
    "#### Entrainer l'instance de modèle créé sur les sous-ensembles de données approprié."
   ]
  },
  {
   "cell_type": "code",
   "execution_count": null,
   "metadata": {
    "colab": {
     "base_uri": "https://localhost:8080/"
    },
    "id": "FvMjlCWf5lar",
    "outputId": "62d12d39-66d5-4234-e8cf-98da982f8f37"
   },
   "outputs": [],
   "source": [
    "grid.fit(X_train, y_train)"
   ]
  },
  {
   "cell_type": "markdown",
   "metadata": {
    "id": "gF--kcA_5lar"
   },
   "source": [
    "\n",
    "#### Afficher les meilleures valeurs des hyperparamètres réglés"
   ]
  },
  {
   "cell_type": "code",
   "execution_count": null,
   "metadata": {
    "colab": {
     "base_uri": "https://localhost:8080/"
    },
    "id": "Olqq_2yp5lar",
    "outputId": "ffd1eb22-811a-47c9-d05b-5afb8bd2ce80"
   },
   "outputs": [],
   "source": [
    "grid.best_params_"
   ]
  },
  {
   "cell_type": "markdown",
   "metadata": {
    "id": "0sdgQCfP5lar"
   },
   "source": [
    "#### Créer une instance __`final_model`__ de l'algorithme de classification par arbres de décision en utilisant les meilleurs hyperparamètres "
   ]
  },
  {
   "cell_type": "code",
   "execution_count": null,
   "metadata": {
    "id": "1oiczymH5lar"
   },
   "outputs": [],
   "source": [
    "final_model = DecisionTreeClassifier(random_state=1, criterion='gini', max_depth=2)"
   ]
  },
  {
   "cell_type": "markdown",
   "metadata": {
    "id": "l6LI5mgK5lar"
   },
   "source": [
    "#### Entrainer __`final_model`__ sur le sous-ensemble de données approprié."
   ]
  },
  {
   "cell_type": "code",
   "execution_count": null,
   "metadata": {
    "colab": {
     "base_uri": "https://localhost:8080/"
    },
    "id": "r343htXw5lar",
    "outputId": "dcd7f98b-53d6-42d6-e413-bc039155f296"
   },
   "outputs": [],
   "source": [
    "final_model.fit(X_train, y_train)"
   ]
  },
  {
   "cell_type": "markdown",
   "metadata": {
    "id": "SHAHqjtb5lar"
   },
   "source": [
    "#### Evaluer la performance de final_model sur le sous-ensemble de données approprié"
   ]
  },
  {
   "cell_type": "code",
   "execution_count": null,
   "metadata": {
    "colab": {
     "base_uri": "https://localhost:8080/"
    },
    "id": "U4DVnrL55lar",
    "outputId": "9d3e0359-50ae-4858-aef7-86d5ab18777a"
   },
   "outputs": [],
   "source": [
    "print( 'le train_score=',final_model.score(X_train, y_train))\n",
    "print( 'le test_score=',final_model.score(X_test, y_test))"
   ]
  },
  {
   "cell_type": "code",
   "execution_count": null,
   "metadata": {
    "id": "ShyRPdlu5lar"
   },
   "outputs": [],
   "source": []
  },
  {
   "cell_type": "markdown",
   "metadata": {
    "id": "2Gxmv79t5lar"
   },
   "source": [
    "#### tracer la matrice de confusion de __`final_model`__"
   ]
  },
  {
   "cell_type": "code",
   "execution_count": null,
   "metadata": {
    "colab": {
     "base_uri": "https://localhost:8080/",
     "height": 279
    },
    "id": "yEseOtNM5lar",
    "outputId": "9cdf7c33-89dc-41fe-9a76-249807aac4ac"
   },
   "outputs": [],
   "source": [
    "from sklearn.metrics import plot_confusion_matrix\n",
    "plot_confusion_matrix(final_model, X_test, y_test, display_labels=df.target_names, cmap=plt.cm.Blues)\n",
    "plt.show()"
   ]
  },
  {
   "cell_type": "markdown",
   "metadata": {
    "id": "Whq-2GNC5lar"
   },
   "source": [
    "### Afficher le __`classification_report`__ de __`final_model`__"
   ]
  },
  {
   "cell_type": "code",
   "execution_count": null,
   "metadata": {
    "colab": {
     "base_uri": "https://localhost:8080/"
    },
    "id": "cIY8aEGA5lar",
    "outputId": "29882cab-b418-4a13-8f58-8dc9062fc921"
   },
   "outputs": [],
   "source": [
    "from sklearn.metrics import classification_report\n",
    "y_pred = final_model.predict(X_test)\n",
    "\n",
    "print(classification_report(y_test, y_pred, digits=8, target_names= df.target_names ))\n"
   ]
  },
  {
   "cell_type": "markdown",
   "metadata": {
    "id": "TdefnRQG5lar"
   },
   "source": [
    "#### Comparer la performance de ce modèle dont les hyperparamètres ont été réglés avec celui de dt sans réglage d'hyperparamètres"
   ]
  },
  {
   "cell_type": "markdown",
   "metadata": {
    "id": "XblhQFbO5lar"
   },
   "source": [
    "#### Afficher l'arbre de décision de __`final_model`__ et le compararer à celui de la première partie."
   ]
  },
  {
   "cell_type": "code",
   "execution_count": null,
   "metadata": {
    "colab": {
     "base_uri": "https://localhost:8080/",
     "height": 570
    },
    "id": "p8Y6RCFO5lar",
    "outputId": "b6775919-6490-488a-dd95-412aa17a06af"
   },
   "outputs": [],
   "source": [
    "from sklearn.tree import plot_tree\n",
    "plt.figure(figsize=(20,10))\n",
    "plot_tree(final_model, feature_names= names, class_names=df.target_names, filled=True)\n",
    "plt.show()"
   ]
  },
  {
   "cell_type": "code",
   "execution_count": null,
   "metadata": {
    "colab": {
     "base_uri": "https://localhost:8080/"
    },
    "id": "FZ_HgpvI5lar",
    "outputId": "b35edb0c-6616-4b98-fe4b-027e1d6d13f4"
   },
   "outputs": [],
   "source": [
    "final_model.feature_importances_"
   ]
  },
  {
   "cell_type": "code",
   "execution_count": null,
   "metadata": {
    "id": "3JYGEd7f5lar"
   },
   "outputs": [],
   "source": []
  },
  {
   "cell_type": "markdown",
   "metadata": {
    "id": "wpyLPgcz5lar"
   },
   "source": [
    "#### Afficher l'arbre de décision de __`final_model`__ sous forme de règles de décision"
   ]
  },
  {
   "cell_type": "code",
   "execution_count": null,
   "metadata": {
    "colab": {
     "base_uri": "https://localhost:8080/"
    },
    "id": "L7QTrS025lar",
    "outputId": "57420e01-d21d-4f5c-9022-6d644f1b42d3"
   },
   "outputs": [],
   "source": [
    "from sklearn.tree import export_text\n",
    "print(export_text(final_model, feature_names=names))"
   ]
  },
  {
   "cell_type": "code",
   "execution_count": null,
   "metadata": {
    "id": "WOSi87sT-oNY"
   },
   "outputs": [],
   "source": []
  }
 ],
 "metadata": {
  "colab": {
   "name": "ArbreDeDecision_3IA.ipynb",
   "provenance": []
  },
  "kernelspec": {
   "display_name": "Python 3",
   "language": "python",
   "name": "python3"
  },
  "language_info": {
   "codemirror_mode": {
    "name": "ipython",
    "version": 3
   },
   "file_extension": ".py",
   "mimetype": "text/x-python",
   "name": "python",
   "nbconvert_exporter": "python",
   "pygments_lexer": "ipython3",
   "version": "3.8.8"
  }
 },
 "nbformat": 4,
 "nbformat_minor": 4
}
